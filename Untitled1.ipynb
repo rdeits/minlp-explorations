{
 "cells": [
  {
   "cell_type": "code",
   "execution_count": 14,
   "metadata": {},
   "outputs": [
    {
     "data": {
      "text/plain": [
       "Plots.GRBackend()"
      ]
     },
     "execution_count": 14,
     "metadata": {},
     "output_type": "execute_result"
    }
   ],
   "source": [
    "using Plots; gr()"
   ]
  },
  {
   "cell_type": "code",
   "execution_count": 1,
   "metadata": {},
   "outputs": [
    {
     "name": "stderr",
     "output_type": "stream",
     "text": [
      "\u001b[1m\u001b[36mINFO: \u001b[39m\u001b[22m\u001b[36mPrecompiling module AmplNLWriter.\n",
      "\u001b[39m"
     ]
    }
   ],
   "source": [
    "using AmplNLWriter\n",
    "using JuMP"
   ]
  },
  {
   "cell_type": "code",
   "execution_count": 3,
   "metadata": {},
   "outputs": [
    {
     "data": {
      "text/latex": [
       "$$ \\begin{alignat*}{1}\\min\\quad & x + y\\\\\n",
       "\\text{Subject to} \\quad & (x ^ 2.0 + y ^ 2.0) - 1.0 = 0\\\\\n",
       " & -1 \\leq x \\leq 1\\\\\n",
       " & -1 \\leq y \\leq 1\\\\\n",
       "\\end{alignat*}\n",
       " $$"
      ],
      "text/plain": [
       "Minimization problem with:\n",
       " * 0 linear constraints\n",
       " * 1 nonlinear constraint\n",
       " * 2 variables\n",
       "Solver is AmplNL"
      ]
     },
     "execution_count": 3,
     "metadata": {},
     "output_type": "execute_result"
    }
   ],
   "source": [
    "model = Model(solver=AmplNLSolver(\"/home/rdeits/Downloads/coin_couenne/couenne\"))\n",
    "\n",
    "@variable model -1 <= x <= 1\n",
    "@variable model -1 <= y <= 1\n",
    "\n",
    "@NLconstraint model x^2 + y^2 == 1\n",
    "@objective model Min x + y\n",
    "model"
   ]
  },
  {
   "cell_type": "code",
   "execution_count": 4,
   "metadata": {},
   "outputs": [
    {
     "name": "stdout",
     "output_type": "stream",
     "text": [
      "Couenne 0.5.6 -- an Open-Source solver for Mixed Integer Nonlinear Optimization\n",
      "Mailing list: couenne@list.coin-or.org\n",
      "Instructions: http://www.coin-or.org/Couenne\n",
      "couenne: \n",
      "ANALYSIS TEST: NLP0012I \n",
      "              Num      Status      Obj             It       time                 Location\n",
      "NLP0014I             1         OPT -1.4142136        7 0.004732\n",
      "Couenne: new cutoff value -1.4142135624e+00 (0.010617 seconds)\n",
      "Loaded instance \"/home/rdeits/.julia/v0.6/AmplNLWriter/.solverdata/tmpKckRfs.nl\"\n",
      "Constraints:            1\n",
      "Variables:              2 (0 integer)\n",
      "Auxiliaries:            4 (0 integer)\n",
      "\n",
      "Coin0506I Presolve 13 (-1) rows, 4 (-2) columns and 27 (-2) elements\n",
      "Clp0006I 0  Obj -1.4139721 Primal inf 0.31762848 (5) Dual inf 0.999999 (1)\n",
      "Clp0006I 9  Obj -1.4142136\n",
      "Clp0000I Optimal - objective value -1.4142136\n",
      "Clp0032I Optimal objective -1.414213583 - 9 iterations time 0.002, Presolve 0.00\n",
      "Clp0000I Optimal - objective value -1.4142136\n",
      "Cbc0012I Integer solution of -1.4142136 found by Couenne Rounding NLP after 0 iterations and 0 nodes (0.00 seconds)\n",
      "NLP Heuristic: NLP0014I             2         OPT -1.4142136        3 0.001562\n",
      "solution found, obj. -1.41421\n",
      "Clp0001I Primal infeasible - objective value -1.4142136\n",
      "Clp0001I Primal infeasible - objective value -1.4142136\n",
      "Clp0006I 0  Obj -1.4142136\n",
      "Clp0000I Optimal - objective value -1.4142136\n",
      "Cbc0001I Search completed - best objective -1.414213562373095, took 0 iterations and 0 nodes (0.00 seconds)\n",
      "Cbc0035I Maximum depth 0, 0 variables fixed on reduced cost\n",
      "Clp0006I 0  Obj -1.4142136 Primal inf 0.037057514 (2)\n",
      "Clp0006I 1  Obj -1.4142136\n",
      "Clp0000I Optimal - objective value -1.4142136\n",
      "\b\n",
      " \t\"Finished\"\n",
      "\n",
      "Linearization cuts added at root node:         14\n",
      "Linearization cuts added in total:             14  (separation time: 8.6e-05s)\n",
      "Total solve time:                        0.003157s (0.003156s in branch-and-bound)\n",
      "Lower bound:                             -1.41421\n",
      "Upper bound:                             -1.41421  (gap: 0.00%)\n",
      "Branch-and-bound nodes:                         0\n",
      "Performance of                           FBBT:\t    7.1e-05s,        3 runs. fix:          0 shrnk:    4.60306 ubd:          0 2ubd:          0 infeas:          0\n"
     ]
    },
    {
     "name": "stderr",
     "output_type": "stream",
     "text": [
      "\u001b[1m\u001b[33mWARNING: \u001b[39m\u001b[22m\u001b[33mNonlinear solver does not provide dual solutions\u001b[39m\n"
     ]
    },
    {
     "data": {
      "text/plain": [
       ":Optimal"
      ]
     },
     "execution_count": 4,
     "metadata": {},
     "output_type": "execute_result"
    }
   ],
   "source": [
    "solve(model)"
   ]
  },
  {
   "cell_type": "code",
   "execution_count": 5,
   "metadata": {},
   "outputs": [
    {
     "data": {
      "text/plain": [
       "(-0.7071067812580959, -0.7071067811174421)"
      ]
     },
     "execution_count": 5,
     "metadata": {},
     "output_type": "execute_result"
    }
   ],
   "source": [
    "getvalue(x), getvalue(y)"
   ]
  },
  {
   "cell_type": "code",
   "execution_count": 17,
   "metadata": {},
   "outputs": [
    {
     "data": {
      "text/latex": [
       "$$ \\begin{alignat*}{1}\\min\\quad & 0.01 x_{1,1}^2 - 0.02 x_{1,1}\\times x_{1,2} + 0.02 x_{1,2}^2 - 0.02 x_{1,2}\\times x_{1,3} + 0.02 x_{1,3}^2 - 0.02 x_{1,3}\\times x_{1,4} + 0.02 x_{1,4}^2 - 0.02 x_{1,4}\\times x_{1,5} + 1.01 x_{1,5}^2 + 0.01 x_{2,1}^2 + 0.01 x_{2,2}^2 + 0.01 x_{2,3}^2 + 0.01 x_{2,4}^2 + 1.01 x_{2,5}^2 - 2 x_{1,5} + 1\\\\\n",
       "\\text{Subject to} \\quad & x_{1,1} = 0\\\\\n",
       " & x_{2,1} = 0\\\\\n",
       " & ((x_{1,2} - x_{1,1}) ^ 2.0 + (x_{2,2} - x_{2,1}) ^ 2.0) - 1.0 = 0\\\\\n",
       " & ((x_{1,3} - x_{1,2}) ^ 2.0 + (x_{2,3} - x_{2,2}) ^ 2.0) - 1.0 = 0\\\\\n",
       " & ((x_{1,4} - x_{1,3}) ^ 2.0 + (x_{2,4} - x_{2,3}) ^ 2.0) - 1.0 = 0\\\\\n",
       " & ((x_{1,5} - x_{1,4}) ^ 2.0 + (x_{2,5} - x_{2,4}) ^ 2.0) - 1.0 = 0\\\\\n",
       " & -10 \\leq x_{i,j} \\leq 10 \\quad\\forall i \\in \\{1,2\\}, j \\in \\{1,2,3,4,5\\}\\\\\n",
       "\\end{alignat*}\n",
       " $$"
      ],
      "text/plain": [
       "Minimization problem with:\n",
       " * 2 linear constraints\n",
       " * 4 nonlinear constraints\n",
       " * 10 variables\n",
       "Solver is AmplNL"
      ]
     },
     "execution_count": 17,
     "metadata": {},
     "output_type": "execute_result"
    }
   ],
   "source": [
    "model = Model(solver=AmplNLSolver(\"/home/rdeits/Downloads/coin_couenne/couenne\"))\n",
    "\n",
    "N = 5\n",
    "@variable model -10 <= x[1:2, 1:N] <= 10\n",
    "for i in 2:N\n",
    "    @NLconstraint(model, (x[1, i] - x[1, i-1])^2 + (x[2, i] - x[2, i-1])^2 == 1)\n",
    "end\n",
    "\n",
    "@constraint model x[:, 1] .== [0, 0]\n",
    "@objective model Min sum((x[:, end] .- [1, 0]).^2) + 0.01 * sum((x[1, i] - x[1, i-1])^2 for i in 2:N)\n",
    "model"
   ]
  },
  {
   "cell_type": "code",
   "execution_count": 18,
   "metadata": {},
   "outputs": [
    {
     "name": "stdout",
     "output_type": "stream",
     "text": [
      "Couenne 0.5.6 -- an Open-Source solver for Mixed Integer Nonlinear Optimization\n",
      "Mailing list: couenne@list.coin-or.org\n",
      "Instructions: http://www.coin-or.org/Couenne\n",
      "couenne: \n",
      "ANALYSIS TEST: NLP0012I \n",
      "              Num      Status      Obj             It       time                 Location\n",
      "NLP0014I             1         OPT 1.04       59 0.029475\n",
      "Couenne: new cutoff value 1.0400000198e+00 (0.036005 seconds)\n",
      "Loaded instance \"/home/rdeits/.julia/v0.6/AmplNLWriter/.solverdata/tmpZvOFyH.nl\"\n",
      "Constraints:            6\n",
      "Variables:             10 (0 integer)\n",
      "Auxiliaries:           35 (2 integer)\n",
      "\n",
      "Coin0506I Presolve 85 (-8) rows, 28 (-17) columns and 207 (-13) elements\n",
      "Clp0006I 0  Obj 1.040204 Primal inf 43.886571 (29) Dual inf 0.56063525 (1)\n",
      "Clp0006I 26  Obj -0.17052597\n",
      "Clp0000I Optimal - objective value -0.17052597\n",
      "Clp0032I Optimal objective -0.1705259746 - 26 iterations time 0.002, Presolve 0.00\n",
      "Clp0000I Optimal - objective value -0.17052597\n",
      "Cbc0012I Integer solution of 1.04 found by Couenne Rounding NLP after 0 iterations and 0 nodes (0.00 seconds)\n",
      "NLP Heuristic: NLP0014I             2         OPT 0.020086878       25 0.012115\n",
      "Couenne: new cutoff value 2.0086877639e-02 (0.050149 seconds)\n",
      "solution found, obj. 0.0200869\n",
      "Cbc0012I Integer solution of 0.020086878 found by Couenne Rounding NLP after 0 iterations and 0 nodes (0.01 seconds)\n",
      "Clp0000I Optimal - objective value -0.17052597\n",
      "Optimality Based BT: 0 improved bounds\n",
      "Probing: 6 improved bounds\n",
      "NLP Heuristic: no solution.\n",
      "Cbc0031I 18 added rows had average density of 2.2777778\n",
      "Cbc0013I At root node, 18 cuts changed objective from -0.17052597 to -0.086156771 in 10 passes\n",
      "Cbc0014I Cut generator 0 (Couenne convexifier cuts) - 113 row cuts average 2.1 elements, 22 column cuts (22 active)\n",
      "Cbc0010I After 0 nodes, 1 on tree, 0.020086878 best solution, best possible -0.086156771 (0.10 seconds)\n",
      "Optimality Based BT: 3 improved bounds\n",
      "Optimality Based BT: 5 improved bounds\n",
      "Optimality Based BT: 7 improved bounds\n",
      "Optimality Based BT: 7 improved bounds\n",
      "Optimality Based BT: 8 improved bounds\n",
      "Optimality Based BT: 8 improved bounds\n",
      "Optimality Based BT: 4 improved bounds\n",
      "Optimality Based BT: 7 improved bounds\n",
      "Optimality Based BT: 5 improved bounds\n",
      "Optimality Based BT: 4 improved bounds\n",
      "Optimality Based BT: 5 improved bounds\n",
      "Cbc0010I After 100 nodes, 37 on tree, 0.020086878 best solution, best possible -0.013725966 (1.45 seconds)\n",
      "Optimality Based BT: 8 improved bounds\n",
      "Cbc0010I After 200 nodes, 64 on tree, 0.020086878 best solution, best possible -0.0074939827 (1.74 seconds)\n",
      "Optimality Based BT: 6 improved bounds\n",
      "Cbc0010I After 300 nodes, 91 on tree, 0.020086878 best solution, best possible -0.0056357842 (2.12 seconds)\n",
      "Optimality Based BT: 5 improved bounds\n",
      "Cbc0010I After 400 nodes, 108 on tree, 0.020086878 best solution, best possible -0.0035724887 (2.74 seconds)\n",
      "Cbc0010I After 500 nodes, 121 on tree, 0.020086878 best solution, best possible -0.0010151453 (3.49 seconds)\n",
      "Optimality Based BT: 7 improved bounds\n",
      "Cbc0010I After 600 nodes, 136 on tree, 0.020086878 best solution, best possible 0.00061081123 (3.75 seconds)\n",
      "Cbc0010I After 700 nodes, 147 on tree, 0.020086878 best solution, best possible 0.002101826 (4.08 seconds)\n",
      "Cbc0010I After 800 nodes, 149 on tree, 0.020086878 best solution, best possible 0.0049961442 (4.52 seconds)\n",
      "Optimality Based BT: 10 improved bounds\n",
      "Cbc0010I After 900 nodes, 149 on tree, 0.020086878 best solution, best possible 0.0078612969 (4.73 seconds)\n",
      "Cbc0010I After 1000 nodes, 162 on tree, 0.020086878 best solution, best possible 0.0097783326 (5.01 seconds)\n",
      "Cbc0010I After 1100 nodes, 178 on tree, 0.020086878 best solution, best possible 0.010712699 (5.13 seconds)\n",
      "Cbc0010I After 1200 nodes, 181 on tree, 0.020086878 best solution, best possible 0.011932619 (5.28 seconds)\n",
      "Cbc0010I After 1300 nodes, 183 on tree, 0.020086878 best solution, best possible 0.01309127 (5.45 seconds)\n",
      "Cbc0010I After 1400 nodes, 176 on tree, 0.020086878 best solution, best possible 0.014623733 (5.61 seconds)\n",
      "Cbc0010I After 1500 nodes, 169 on tree, 0.020086878 best solution, best possible 0.015552969 (5.73 seconds)\n",
      "Optimality Based BT: 12 improved bounds\n",
      "Cbc0010I After 1600 nodes, 147 on tree, 0.020086878 best solution, best possible 0.016699324 (5.86 seconds)\n",
      "Cbc0010I After 1700 nodes, 135 on tree, 0.020086878 best solution, best possible 0.017527585 (5.99 seconds)\n",
      "Cbc0010I After 1800 nodes, 132 on tree, 0.020086878 best solution, best possible 0.018117583 (6.10 seconds)\n",
      "Cbc0010I After 1900 nodes, 133 on tree, 0.020086878 best solution, best possible 0.01862731 (6.22 seconds)\n",
      "Optimality Based BT: 0 improved bounds\n",
      "Cbc0010I After 2000 nodes, 121 on tree, 0.020086878 best solution, best possible 0.019073382 (6.34 seconds)\n",
      "Cbc0010I After 2100 nodes, 110 on tree, 0.020086878 best solution, best possible 0.019329983 (6.47 seconds)\n",
      "Cbc0010I After 2200 nodes, 117 on tree, 0.020086878 best solution, best possible 0.019458491 (6.61 seconds)\n",
      "Cbc0010I After 2300 nodes, 93 on tree, 0.020086878 best solution, best possible 0.019785344 (6.74 seconds)\n",
      "Cbc0010I After 2400 nodes, 87 on tree, 0.020086878 best solution, best possible 0.019847824 (6.88 seconds)\n",
      "Cbc0010I After 2500 nodes, 97 on tree, 0.020086878 best solution, best possible 0.019898417 (7.00 seconds)\n",
      "Cbc0010I After 2600 nodes, 91 on tree, 0.020086878 best solution, best possible 0.019944454 (7.08 seconds)\n",
      "Cbc0010I After 2700 nodes, 76 on tree, 0.020086878 best solution, best possible 0.019989949 (7.17 seconds)\n",
      "Cbc0010I After 2800 nodes, 64 on tree, 0.020086878 best solution, best possible 0.020025165 (7.25 seconds)\n",
      "Cbc0010I After 2900 nodes, 57 on tree, 0.020086878 best solution, best possible 0.020042955 (7.32 seconds)\n",
      "Cbc0010I After 3000 nodes, 49 on tree, 0.020086878 best solution, best possible 0.020059917 (7.37 seconds)\n",
      "Cbc0010I After 3100 nodes, 15 on tree, 0.020086878 best solution, best possible 0.020073868 (7.42 seconds)\n",
      "Cbc0001I Search completed - best objective 0.02008687763876206, took 63447 iterations and 3130 nodes (7.44 seconds)\n",
      "Cbc0035I Maximum depth 30, 0 variables fixed on reduced cost\n",
      "\b\n",
      " \t\"Finished\"\n",
      "\n",
      "Linearization cuts added at root node:         93\n",
      "Linearization cuts added in total:             93  (separation time: 0.000332s)\n",
      "Total solve time:                         7.44363s (7.44363s in branch-and-bound)\n",
      "Lower bound:                            0.0200869\n",
      "Upper bound:                            0.0200869  (gap: 0.00%)\n",
      "Branch-and-bound nodes:                      3130\n",
      "Performance of                           FBBT:\t    1.18904s,     4274 runs. fix:          0 shrnk:    0.88645 ubd:          0 2ubd:          0 infeas:          8\n"
     ]
    },
    {
     "data": {
      "text/plain": [
       ":Optimal"
      ]
     },
     "execution_count": 18,
     "metadata": {},
     "output_type": "execute_result"
    }
   ],
   "source": [
    "solve(model)"
   ]
  },
  {
   "cell_type": "code",
   "execution_count": 19,
   "metadata": {},
   "outputs": [
    {
     "data": {
      "text/html": [
       "<?xml version=\"1.0\" encoding=\"utf-8\"?>\n",
       "<svg xmlns=\"http://www.w3.org/2000/svg\" xmlns:xlink=\"http://www.w3.org/1999/xlink\" width=\"600\" height=\"400\" viewBox=\"0 0 600 400\">\n",
       "<defs>\n",
       "  <clipPath id=\"clip8600\">\n",
       "    <rect x=\"0\" y=\"0\" width=\"600\" height=\"400\"/>\n",
       "  </clipPath>\n",
       "</defs>\n",
       "<polygon clip-path=\"url(#clip8600)\" points=\"\n",
       "0,400 600,400 600,0 0,0 \n",
       "  \" fill=\"#ffffff\" fill-opacity=\"1\"/>\n",
       "<defs>\n",
       "  <clipPath id=\"clip8601\">\n",
       "    <rect x=\"120\" y=\"0\" width=\"421\" height=\"400\"/>\n",
       "  </clipPath>\n",
       "</defs>\n",
       "<polygon clip-path=\"url(#clip8600)\" points=\"\n",
       "32.4745,375.869 580.315,375.869 580.315,11.811 32.4745,11.811 \n",
       "  \" fill=\"#ffffff\" fill-opacity=\"1\"/>\n",
       "<defs>\n",
       "  <clipPath id=\"clip8602\">\n",
       "    <rect x=\"32\" y=\"11\" width=\"549\" height=\"365\"/>\n",
       "  </clipPath>\n",
       "</defs>\n",
       "<polyline clip-path=\"url(#clip8602)\" style=\"stroke:#000000; stroke-width:0.5; stroke-opacity:0.1; fill:none\" points=\"\n",
       "  47.9794,375.869 47.9794,11.811 \n",
       "  \"/>\n",
       "<polyline clip-path=\"url(#clip8602)\" style=\"stroke:#000000; stroke-width:0.5; stroke-opacity:0.1; fill:none\" points=\"\n",
       "  177.23,375.869 177.23,11.811 \n",
       "  \"/>\n",
       "<polyline clip-path=\"url(#clip8602)\" style=\"stroke:#000000; stroke-width:0.5; stroke-opacity:0.1; fill:none\" points=\"\n",
       "  306.48,375.869 306.48,11.811 \n",
       "  \"/>\n",
       "<polyline clip-path=\"url(#clip8602)\" style=\"stroke:#000000; stroke-width:0.5; stroke-opacity:0.1; fill:none\" points=\"\n",
       "  435.731,375.869 435.731,11.811 \n",
       "  \"/>\n",
       "<polyline clip-path=\"url(#clip8602)\" style=\"stroke:#000000; stroke-width:0.5; stroke-opacity:0.1; fill:none\" points=\"\n",
       "  564.981,375.869 564.981,11.811 \n",
       "  \"/>\n",
       "<polyline clip-path=\"url(#clip8602)\" style=\"stroke:#000000; stroke-width:0.5; stroke-opacity:0.1; fill:none\" points=\"\n",
       "  32.4745,325.006 580.315,325.006 \n",
       "  \"/>\n",
       "<polyline clip-path=\"url(#clip8602)\" style=\"stroke:#000000; stroke-width:0.5; stroke-opacity:0.1; fill:none\" points=\"\n",
       "  32.4745,256.274 580.315,256.274 \n",
       "  \"/>\n",
       "<polyline clip-path=\"url(#clip8602)\" style=\"stroke:#000000; stroke-width:0.5; stroke-opacity:0.1; fill:none\" points=\"\n",
       "  32.4745,187.541 580.315,187.541 \n",
       "  \"/>\n",
       "<polyline clip-path=\"url(#clip8602)\" style=\"stroke:#000000; stroke-width:0.5; stroke-opacity:0.1; fill:none\" points=\"\n",
       "  32.4745,118.809 580.315,118.809 \n",
       "  \"/>\n",
       "<polyline clip-path=\"url(#clip8602)\" style=\"stroke:#000000; stroke-width:0.5; stroke-opacity:0.1; fill:none\" points=\"\n",
       "  32.4745,50.0766 580.315,50.0766 \n",
       "  \"/>\n",
       "<polyline clip-path=\"url(#clip8600)\" style=\"stroke:#000000; stroke-width:1; stroke-opacity:1; fill:none\" points=\"\n",
       "  32.4745,375.869 580.315,375.869 \n",
       "  \"/>\n",
       "<polyline clip-path=\"url(#clip8600)\" style=\"stroke:#000000; stroke-width:1; stroke-opacity:1; fill:none\" points=\"\n",
       "  32.4745,375.869 32.4745,11.811 \n",
       "  \"/>\n",
       "<polyline clip-path=\"url(#clip8600)\" style=\"stroke:#000000; stroke-width:1; stroke-opacity:1; fill:none\" points=\"\n",
       "  47.9794,375.869 47.9794,370.408 \n",
       "  \"/>\n",
       "<polyline clip-path=\"url(#clip8600)\" style=\"stroke:#000000; stroke-width:1; stroke-opacity:1; fill:none\" points=\"\n",
       "  177.23,375.869 177.23,370.408 \n",
       "  \"/>\n",
       "<polyline clip-path=\"url(#clip8600)\" style=\"stroke:#000000; stroke-width:1; stroke-opacity:1; fill:none\" points=\"\n",
       "  306.48,375.869 306.48,370.408 \n",
       "  \"/>\n",
       "<polyline clip-path=\"url(#clip8600)\" style=\"stroke:#000000; stroke-width:1; stroke-opacity:1; fill:none\" points=\"\n",
       "  435.731,375.869 435.731,370.408 \n",
       "  \"/>\n",
       "<polyline clip-path=\"url(#clip8600)\" style=\"stroke:#000000; stroke-width:1; stroke-opacity:1; fill:none\" points=\"\n",
       "  564.981,375.869 564.981,370.408 \n",
       "  \"/>\n",
       "<polyline clip-path=\"url(#clip8600)\" style=\"stroke:#000000; stroke-width:1; stroke-opacity:1; fill:none\" points=\"\n",
       "  32.4745,325.006 40.6921,325.006 \n",
       "  \"/>\n",
       "<polyline clip-path=\"url(#clip8600)\" style=\"stroke:#000000; stroke-width:1; stroke-opacity:1; fill:none\" points=\"\n",
       "  32.4745,256.274 40.6921,256.274 \n",
       "  \"/>\n",
       "<polyline clip-path=\"url(#clip8600)\" style=\"stroke:#000000; stroke-width:1; stroke-opacity:1; fill:none\" points=\"\n",
       "  32.4745,187.541 40.6921,187.541 \n",
       "  \"/>\n",
       "<polyline clip-path=\"url(#clip8600)\" style=\"stroke:#000000; stroke-width:1; stroke-opacity:1; fill:none\" points=\"\n",
       "  32.4745,118.809 40.6921,118.809 \n",
       "  \"/>\n",
       "<polyline clip-path=\"url(#clip8600)\" style=\"stroke:#000000; stroke-width:1; stroke-opacity:1; fill:none\" points=\"\n",
       "  32.4745,50.0766 40.6921,50.0766 \n",
       "  \"/>\n",
       "<g clip-path=\"url(#clip8600)\">\n",
       "<text style=\"fill:#000000; fill-opacity:1; font-family:Arial,Helvetica Neue,Helvetica,sans-serif; font-size:12; text-anchor:middle;\" transform=\"rotate(0, 47.9794, 389.669)\" x=\"47.9794\" y=\"389.669\">0.00</text>\n",
       "</g>\n",
       "<g clip-path=\"url(#clip8600)\">\n",
       "<text style=\"fill:#000000; fill-opacity:1; font-family:Arial,Helvetica Neue,Helvetica,sans-serif; font-size:12; text-anchor:middle;\" transform=\"rotate(0, 177.23, 389.669)\" x=\"177.23\" y=\"389.669\">0.25</text>\n",
       "</g>\n",
       "<g clip-path=\"url(#clip8600)\">\n",
       "<text style=\"fill:#000000; fill-opacity:1; font-family:Arial,Helvetica Neue,Helvetica,sans-serif; font-size:12; text-anchor:middle;\" transform=\"rotate(0, 306.48, 389.669)\" x=\"306.48\" y=\"389.669\">0.50</text>\n",
       "</g>\n",
       "<g clip-path=\"url(#clip8600)\">\n",
       "<text style=\"fill:#000000; fill-opacity:1; font-family:Arial,Helvetica Neue,Helvetica,sans-serif; font-size:12; text-anchor:middle;\" transform=\"rotate(0, 435.731, 389.669)\" x=\"435.731\" y=\"389.669\">0.75</text>\n",
       "</g>\n",
       "<g clip-path=\"url(#clip8600)\">\n",
       "<text style=\"fill:#000000; fill-opacity:1; font-family:Arial,Helvetica Neue,Helvetica,sans-serif; font-size:12; text-anchor:middle;\" transform=\"rotate(0, 564.981, 389.669)\" x=\"564.981\" y=\"389.669\">1.00</text>\n",
       "</g>\n",
       "<g clip-path=\"url(#clip8600)\">\n",
       "<text style=\"fill:#000000; fill-opacity:1; font-family:Arial,Helvetica Neue,Helvetica,sans-serif; font-size:12; text-anchor:end;\" transform=\"rotate(0, 26.4745, 329.506)\" x=\"26.4745\" y=\"329.506\">0.0</text>\n",
       "</g>\n",
       "<g clip-path=\"url(#clip8600)\">\n",
       "<text style=\"fill:#000000; fill-opacity:1; font-family:Arial,Helvetica Neue,Helvetica,sans-serif; font-size:12; text-anchor:end;\" transform=\"rotate(0, 26.4745, 260.774)\" x=\"26.4745\" y=\"260.774\">0.2</text>\n",
       "</g>\n",
       "<g clip-path=\"url(#clip8600)\">\n",
       "<text style=\"fill:#000000; fill-opacity:1; font-family:Arial,Helvetica Neue,Helvetica,sans-serif; font-size:12; text-anchor:end;\" transform=\"rotate(0, 26.4745, 192.041)\" x=\"26.4745\" y=\"192.041\">0.4</text>\n",
       "</g>\n",
       "<g clip-path=\"url(#clip8600)\">\n",
       "<text style=\"fill:#000000; fill-opacity:1; font-family:Arial,Helvetica Neue,Helvetica,sans-serif; font-size:12; text-anchor:end;\" transform=\"rotate(0, 26.4745, 123.309)\" x=\"26.4745\" y=\"123.309\">0.6</text>\n",
       "</g>\n",
       "<g clip-path=\"url(#clip8600)\">\n",
       "<text style=\"fill:#000000; fill-opacity:1; font-family:Arial,Helvetica Neue,Helvetica,sans-serif; font-size:12; text-anchor:end;\" transform=\"rotate(0, 26.4745, 54.5766)\" x=\"26.4745\" y=\"54.5766\">0.8</text>\n",
       "</g>\n",
       "<circle clip-path=\"url(#clip8602)\" style=\"fill:#000000; stroke:none; fill-opacity:1\" cx=\"47.9794\" cy=\"325.006\" r=\"4\"/>\n",
       "<circle clip-path=\"url(#clip8602)\" style=\"fill:#009af9; stroke:none; fill-opacity:1\" cx=\"47.9794\" cy=\"325.006\" r=\"3\"/>\n",
       "<circle clip-path=\"url(#clip8602)\" style=\"fill:#000000; stroke:none; fill-opacity:1\" cx=\"292.236\" cy=\"22.117\" r=\"4\"/>\n",
       "<circle clip-path=\"url(#clip8602)\" style=\"fill:#009af9; stroke:none; fill-opacity:1\" cx=\"292.236\" cy=\"22.117\" r=\"3\"/>\n",
       "<circle clip-path=\"url(#clip8602)\" style=\"fill:#000000; stroke:none; fill-opacity:1\" cx=\"310.475\" cy=\"365.565\" r=\"4\"/>\n",
       "<circle clip-path=\"url(#clip8602)\" style=\"fill:#009af9; stroke:none; fill-opacity:1\" cx=\"310.475\" cy=\"365.565\" r=\"3\"/>\n",
       "<circle clip-path=\"url(#clip8602)\" style=\"fill:#000000; stroke:none; fill-opacity:1\" cx=\"328.608\" cy=\"22.1145\" r=\"4\"/>\n",
       "<circle clip-path=\"url(#clip8602)\" style=\"fill:#009af9; stroke:none; fill-opacity:1\" cx=\"328.608\" cy=\"22.1145\" r=\"3\"/>\n",
       "<circle clip-path=\"url(#clip8602)\" style=\"fill:#000000; stroke:none; fill-opacity:1\" cx=\"564.81\" cy=\"327.814\" r=\"4\"/>\n",
       "<circle clip-path=\"url(#clip8602)\" style=\"fill:#009af9; stroke:none; fill-opacity:1\" cx=\"564.81\" cy=\"327.814\" r=\"3\"/>\n",
       "<polygon clip-path=\"url(#clip8600)\" points=\"\n",
       "489.608,62.931 562.315,62.931 562.315,32.691 489.608,32.691 \n",
       "  \" fill=\"#ffffff\" fill-opacity=\"1\"/>\n",
       "<polyline clip-path=\"url(#clip8600)\" style=\"stroke:#000000; stroke-width:1; stroke-opacity:1; fill:none\" points=\"\n",
       "  489.608,62.931 562.315,62.931 562.315,32.691 489.608,32.691 489.608,62.931 \n",
       "  \"/>\n",
       "<circle clip-path=\"url(#clip8600)\" style=\"fill:#000000; stroke:none; fill-opacity:1\" cx=\"516.608\" cy=\"47.811\" r=\"6\"/>\n",
       "<circle clip-path=\"url(#clip8600)\" style=\"fill:#009af9; stroke:none; fill-opacity:1\" cx=\"516.608\" cy=\"47.811\" r=\"5\"/>\n",
       "<g clip-path=\"url(#clip8600)\">\n",
       "<text style=\"fill:#000000; fill-opacity:1; font-family:Arial,Helvetica Neue,Helvetica,sans-serif; font-size:12; text-anchor:start;\" transform=\"rotate(0, 537.608, 52.311)\" x=\"537.608\" y=\"52.311\">y1</text>\n",
       "</g>\n",
       "</svg>\n"
      ]
     },
     "execution_count": 19,
     "metadata": {},
     "output_type": "execute_result"
    }
   ],
   "source": [
    "scatter(getvalue(x[1, :]), getvalue(x[2,:]))"
   ]
  },
  {
   "cell_type": "code",
   "execution_count": 20,
   "metadata": {},
   "outputs": [
    {
     "data": {
      "text/plain": [
       "2×5 Array{Float64,2}:\n",
       " 0.0  0.472449   0.507727  0.542801   0.999669  \n",
       " 0.0  0.881358  -0.11802   0.881365  -0.00816922"
      ]
     },
     "execution_count": 20,
     "metadata": {},
     "output_type": "execute_result"
    }
   ],
   "source": [
    "getvalue(x)"
   ]
  },
  {
   "cell_type": "code",
   "execution_count": null,
   "metadata": {},
   "outputs": [],
   "source": []
  }
 ],
 "metadata": {
  "kernelspec": {
   "display_name": "Julia 0.6.2",
   "language": "julia",
   "name": "julia-0.6"
  },
  "language_info": {
   "file_extension": ".jl",
   "mimetype": "application/julia",
   "name": "julia",
   "version": "0.6.2"
  }
 },
 "nbformat": 4,
 "nbformat_minor": 2
}
