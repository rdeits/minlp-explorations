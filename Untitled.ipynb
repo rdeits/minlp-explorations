{
 "cells": [
  {
   "cell_type": "code",
   "execution_count": 1,
   "metadata": {},
   "outputs": [
    {
     "name": "stderr",
     "output_type": "stream",
     "text": [
      "\u001b[1m\u001b[36mINFO: \u001b[39m\u001b[22m\u001b[36mPrecompiling module POD.\n",
      "\u001b[39m"
     ]
    }
   ],
   "source": [
    "using Ipopt\n",
    "using POD\n",
    "using JuMP\n",
    "using Gurobi"
   ]
  },
  {
   "cell_type": "code",
   "execution_count": 2,
   "metadata": {},
   "outputs": [
    {
     "data": {
      "text/latex": [
       "$$ \\begin{alignat*}{1}\\min\\quad & x + y\\\\\n",
       "\\text{Subject to} \\quad & (x ^ 2.0 + y ^ 2.0) - 1.0 = 0\\\\\n",
       " & -1 \\leq x \\leq 1\\\\\n",
       " & -1 \\leq y \\leq 1\\\\\n",
       "\\end{alignat*}\n",
       " $$"
      ],
      "text/plain": [
       "Minimization problem with:\n",
       " * 0 linear constraints\n",
       " * 1 nonlinear constraint\n",
       " * 2 variables\n",
       "Solver is POD"
      ]
     },
     "execution_count": 2,
     "metadata": {},
     "output_type": "execute_result"
    }
   ],
   "source": [
    "model = Model(solver=PODSolver(nlp_solver=IpoptSolver(print_level=0), mip_solver=GurobiSolver(OutputFlag=0)))\n",
    "\n",
    "@variable model -1 <= x <= 1\n",
    "@variable model -1 <= y <= 1\n",
    "\n",
    "@NLconstraint model x^2 + y^2 == 1\n",
    "@objective model Min x + y\n",
    "model"
   ]
  },
  {
   "cell_type": "code",
   "execution_count": 3,
   "metadata": {},
   "outputs": [
    {
     "name": "stdout",
     "output_type": "stream",
     "text": [
      "\u001b[93mfull problem loaded into POD\n",
      "\u001b[39mproblen sense Min\n",
      "number of constraints = 1\n",
      "number of non-linear constraints = 1\n",
      "number of linear constraints = 0\n",
      "number of continuous variables = 2\n",
      "number of binary variables = 0\n",
      "number of integer variables = 0\n",
      "detected nonlinear terms = 2\n",
      "\tTerm MONOMIAL Count = 2 \n",
      "number of variables involved in nonlinear terms = 2\n",
      "number of selected variables to discretize = 2\n",
      "* * * * * * * * * * * * * * * * * * * * * * * * * * * * * * * *\n",
      "                        SUB-SOLVERS  \n",
      "NLP local solver = Ipopt\n",
      "MIP solver = Gurobi\n",
      "* * * * * * * * * * * * * * * * * * * * * * * * * * * * * * * *\n",
      "                    SOLVER CONFIGURATION \n",
      "maximum solution time = Inf\n",
      "maximum iterations =  99\n",
      "relative optimality gap criteria = 0.00010 (0.0100 %)\n",
      "default tolerance = 1.0e-6\n",
      "actively recognize convex patterns = \n",
      "basic bound propagation = true\n",
      "use piece-wise relaxation formulation on integer variables = false\n",
      "piece-wise relaxation formulation = sos2 formulation\n",
      "method for picking discretization variable = 2\n",
      "conseuctive solution rejection = after 0 times\n",
      "discretization ratio = 4\n",
      "bound tightening presolver = false\n",
      "* * * * * * * * * * * * * * * * * * * * * * * * * * * * * * * *\n",
      "-----------------------------------------------------------------\n",
      "If you find POD useful, please cite the following work. Thanks!!!\n",
      "                          CITATION\n",
      "-----------------------------------------------------------------\n"
     ]
    },
    {
     "name": "stderr",
     "output_type": "stream",
     "text": [
      "\u001b[1m\u001b[33mWARNING: \u001b[39m\u001b[22m\u001b[33mPOD support Gurobi solver 7.0+ ...\u001b[39m\n"
     ]
    },
    {
     "name": "stdout",
     "output_type": "stream",
     "text": [
      "\n",
      "POD algorithm presolver started.\n",
      "performing local solve to obtain a feasible solution.\n",
      "\n",
      "******************************************************************************\n",
      "This program contains Ipopt, a library for large-scale nonlinear optimization.\n",
      " Ipopt is released as open source code under the Eclipse Public License (EPL).\n",
      "         For more information visit http://projects.coin-or.org/Ipopt\n",
      "******************************************************************************\n",
      "\n",
      "local solver returns feasible point\n",
      "presolve ended.\n",
      "Presolve time = 2.25s\n",
      "\u001b[93m | NLP           | MIP           || Objective     | Bound         | GAP%          | CLOCK         | | Iter   \n",
      "\u001b[39mPOOL size = 0 / 1 \n",
      " | -1.4142       | -1.4142       || -1.4142       | -1.4142       | 2.0e-5        | 4.28s         | | finish\n",
      "\u001b[32m\n",
      " POD ended with status Optimal\n",
      "\u001b[39m"
     ]
    },
    {
     "name": "stderr",
     "output_type": "stream",
     "text": [
      "\u001b[1m\u001b[33mWARNING: \u001b[39m\u001b[22m\u001b[33mNonlinear solver does not provide dual solutions\u001b[39m\n"
     ]
    },
    {
     "data": {
      "text/plain": [
       ":Optimal"
      ]
     },
     "execution_count": 3,
     "metadata": {},
     "output_type": "execute_result"
    }
   ],
   "source": [
    "solve(model)"
   ]
  },
  {
   "cell_type": "code",
   "execution_count": 4,
   "metadata": {},
   "outputs": [
    {
     "data": {
      "text/plain": [
       "(-0.70711, -0.70711)"
      ]
     },
     "execution_count": 4,
     "metadata": {},
     "output_type": "execute_result"
    }
   ],
   "source": [
    "getvalue(x), getvalue(y)"
   ]
  },
  {
   "cell_type": "code",
   "execution_count": 7,
   "metadata": {},
   "outputs": [
    {
     "data": {
      "text/latex": [
       "$$ \\begin{alignat*}{1}\\min\\quad & 0.01 x_{1,1}^2 - 0.02 x_{1,1}\\times x_{1,2} + 0.02 x_{1,2}^2 - 0.02 x_{1,2}\\times x_{1,3} + 0.02 x_{1,3}^2 - 0.02 x_{1,3}\\times x_{1,4} + 1.01 x_{1,4}^2 + x_{2,4}^2 - 2 x_{1,4} + 1\\\\\n",
       "\\text{Subject to} \\quad & x_{1,1} = 0\\\\\n",
       " & x_{2,1} = 0\\\\\n",
       " & ((x_{1,2} - x_{1,1}) ^ 2.0 + (x_{2,2} - x_{2,1}) ^ 2.0) - 1.0 = 0\\\\\n",
       " & ((x_{1,3} - x_{1,2}) ^ 2.0 + (x_{2,3} - x_{2,2}) ^ 2.0) - 1.0 = 0\\\\\n",
       " & ((x_{1,4} - x_{1,3}) ^ 2.0 + (x_{2,4} - x_{2,3}) ^ 2.0) - 1.0 = 0\\\\\n",
       " & -10 \\leq x_{i,j} \\leq 10 \\quad\\forall i \\in \\{1,2\\}, j \\in \\{1,2,3,4\\}\\\\\n",
       "\\end{alignat*}\n",
       " $$"
      ],
      "text/plain": [
       "Minimization problem with:\n",
       " * 2 linear constraints\n",
       " * 3 nonlinear constraints\n",
       " * 8 variables\n",
       "Solver is POD"
      ]
     },
     "execution_count": 7,
     "metadata": {},
     "output_type": "execute_result"
    }
   ],
   "source": [
    "model = Model(solver=PODSolver(nlp_solver=IpoptSolver(print_level=0), mip_solver=GurobiSolver(OutputFlag=0)))\n",
    "\n",
    "N = 4\n",
    "@variable model -10 <= x[1:2, 1:N] <= 10\n",
    "for i in 2:N\n",
    "    @NLconstraint(model, (x[1, i] - x[1, i-1])^2 + (x[2, i] - x[2, i-1])^2 == 1)\n",
    "end\n",
    "\n",
    "@constraint model x[:, 1] .== [0, 0]\n",
    "@objective model Min sum((x[:, end] .- [1, 0]).^2) + 0.01 * sum((x[1, i] - x[1, i-1])^2 for i in 2:N)\n",
    "model"
   ]
  },
  {
   "cell_type": "code",
   "execution_count": 8,
   "metadata": {},
   "outputs": [
    {
     "name": "stdout",
     "output_type": "stream",
     "text": [
      "Inf bound detected on 12 variables. Initialize with value -10e4/10e4. This may affect global optimality and performance.\n",
      "\u001b[93mfull problem loaded into POD\n",
      "\u001b[39mproblen sense Min\n",
      "number of constraints = 5\n",
      "number of non-linear constraints = 3\n",
      "number of linear constraints = 2\n",
      "number of continuous variables = 8\n",
      "number of binary variables = 0\n",
      "number of integer variables = 0\n",
      "detected nonlinear terms = 14\n",
      "\tTerm BILINEAR Count = 3 \n",
      "\tTerm MONOMIAL Count = 11 \n",
      "number of variables involved in nonlinear terms = 11\n",
      "number of selected variables to discretize = 11\n",
      "* * * * * * * * * * * * * * * * * * * * * * * * * * * * * * * *\n",
      "                        SUB-SOLVERS  \n",
      "NLP local solver = Ipopt\n",
      "MIP solver = Gurobi\n",
      "* * * * * * * * * * * * * * * * * * * * * * * * * * * * * * * *\n",
      "                    SOLVER CONFIGURATION \n",
      "maximum solution time = Inf\n",
      "maximum iterations =  99\n",
      "relative optimality gap criteria = 0.00010 (0.0100 %)\n",
      "default tolerance = 1.0e-6\n",
      "actively recognize convex patterns = \n",
      "basic bound propagation = true\n",
      "use piece-wise relaxation formulation on integer variables = false\n",
      "piece-wise relaxation formulation = sos2 formulation\n",
      "method for picking discretization variable = 2\n",
      "conseuctive solution rejection = after 0 times\n",
      "discretization ratio = 4\n",
      "bound tightening presolver = false\n",
      "* * * * * * * * * * * * * * * * * * * * * * * * * * * * * * * *\n",
      "-----------------------------------------------------------------\n",
      "If you find POD useful, please cite the following work. Thanks!!!\n",
      "                          CITATION\n",
      "-----------------------------------------------------------------\n",
      "\n",
      "POD algorithm presolver started.\n",
      "performing local solve to obtain a feasible solution.\n",
      "local solver returns feasible point\n"
     ]
    },
    {
     "name": "stderr",
     "output_type": "stream",
     "text": [
      "\u001b[1m\u001b[33mWARNING: \u001b[39m\u001b[22m\u001b[33mPOD support Gurobi solver 7.0+ ...\u001b[39m\n"
     ]
    },
    {
     "name": "stdout",
     "output_type": "stream",
     "text": [
      "presolve ended.\n",
      "Presolve time = 0.16s\n",
      "\u001b[93m | NLP           | MIP           || Objective     | Bound         | GAP%          | CLOCK         | | Iter   \n",
      "\u001b[39mPOOL size = 0 / 1 \n",
      " | 0.03          | -0.9701       || 0.03          | -0.9701       | LARGE         | 1.02s         | | 1\n",
      "POOL size = 0 / 3 \n",
      " | 0.03          | -0.2201       || 0.03          | -0.2201       | 833.63438     | 1.06s         | | 2\n",
      "POOL size = 0 / 8 \n",
      " | 0.03          | -0.0354       || 0.03          | -0.0354       | 217.97223     | 1.1s          | | 3\n",
      "POOL size = 0 / 12 \n",
      " | 0.03          | -0.0029       || 0.03          | -0.0029       | 109.71375     | 1.17s         | | 4\n",
      "Heuristic Local Search : LB pool-based multi-search\n",
      "Feasible solution obtained using lower bound solution pool [SOL:1]\n",
      "Feasible solution obtained using lower bound solution pool [SOL:5]\n",
      "POOL size = 0 / 22 \n",
      " | 0.03          | 0.0022        || 0.03          | 0.0022        | 92.78324      | 1.36s         | | 5\n",
      "Heuristic Local Search : LB pool-based multi-search\n",
      "POOL size = 0 / 30 \n",
      " | INF           | 0.0048        || 0.03          | 0.0048        | 83.92461      | 1.69s         | | 6\n",
      "Heuristic Local Search : LB pool-based multi-search\n",
      "Feasible solution obtained using lower bound solution pool [SOL:27]\n",
      "Feasible solution obtained using lower bound solution pool [SOL:28]\n",
      "POOL size = 0 / 40 \n",
      " | 0.0111        | 0.0074        || 0.0111        | 0.0074        | 33.78282      | 2.01s         | | 7\n",
      "Heuristic Local Search : LB pool-based multi-search\n",
      "Feasible solution obtained using lower bound solution pool [SOL:34]\n",
      "POOL size = 0 / 50 \n",
      " | 0.01          | 0.0087        || 0.01          | 0.0087        | 13.30464      | 2.56s         | | 8\n",
      "POOL size = 0 / 60 \n",
      " | 0.01          | 0.0092        || 0.01          | 0.0092        | 7.60823       | 6.21s         | | 9\n",
      "POOL size = 0 / 70 \n",
      " | 0.01          | 0.0094        || 0.01          | 0.0094        | 5.92807       | 11.23s        | | 10\n",
      "Heuristic Local Search : LB pool-based multi-search\n",
      "Feasible solution obtained using lower bound solution pool [SOL:41]\n",
      "POOL size = 0 / 80 \n",
      " | 0.01          | 0.0098        || 0.01          | 0.0098        | 1.7939        | 22.38s        | | 11\n",
      "POOL size = 0 / 90 \n",
      " | 0.01          | 0.0098        || 0.01          | 0.0098        | 1.77302       | 35.96s        | | 12\n",
      "POOL size = 0 / 100 \n",
      " | 0.01          | 0.0099        || 0.01          | 0.0099        | 1.33231       | 53.65s        | | 13\n",
      "POOL size = 0 / 110 \n",
      " | 0.01          | 0.0099        || 0.01          | 0.0099        | 0.51137       | 84.97s        | | 14\n",
      "POOL size = 0 / 120 \n",
      " | 0.01          | 0.0099        || 0.01          | 0.0099        | 0.50134       | 167.21s       | | 15\n",
      "POOL size = 0 / 130 \n",
      " | 0.01          | 0.01          || 0.01          | 0.01          | 0.32102       | 260.4s        | | 16\n",
      "POOL size = 0 / 140 \n",
      " | 0.01          | 0.01          || 0.01          | 0.01          | 0.18551       | 324.83s       | | 17\n",
      "POOL size = 0 / 150 \n",
      " | 0.01          | 0.01          || 0.01          | 0.01          | 0.12288       | 394.62s       | | 18\n",
      "POOL size = 0 / 160 \n",
      " | 0.01          | 0.01          || 0.01          | 0.01          | 0.12259       | 746.0s        | | 19\n",
      "POOL size = 0 / 170 \n",
      " | 0.01          | 0.01          || 0.01          | 0.01          | 0.07619       | 828.58s       | | 20\n",
      "POOL size = 0 / 180 \n",
      " | 0.01          | 0.01          || 0.01          | 0.01          | 0.05768       | 887.96s       | | 21\n",
      "POOL size = 0 / 190 \n",
      " | 0.01          | 0.01          || 0.01          | 0.01          | 0.02387       | 964.44s       | | 22\n",
      "POOL size = 0 / 200 \n",
      " | 0.01          | 0.01          || 0.01          | 0.01          | 0.02387       | 1245.75s      | | 23\n"
     ]
    },
    {
     "ename": "LoadError",
     "evalue": "\u001b[91mInterruptException:\u001b[39m",
     "output_type": "error",
     "traceback": [
      "\u001b[91mInterruptException:\u001b[39m",
      "",
      "Stacktrace:",
      " [1] \u001b[1mget_intattr\u001b[22m\u001b[22m\u001b[1m(\u001b[22m\u001b[22m::Gurobi.Model, ::String\u001b[1m)\u001b[22m\u001b[22m at \u001b[1m/home/rdeits/.julia/v0.6/Gurobi/src/grb_attrs.jl:11\u001b[22m\u001b[22m",
      " [2] \u001b[1mget_status\u001b[22m\u001b[22m at \u001b[1m/home/rdeits/.julia/v0.6/Gurobi/src/grb_solve.jl:63\u001b[22m\u001b[22m [inlined]",
      " [3] \u001b[1mstatus\u001b[22m\u001b[22m\u001b[1m(\u001b[22m\u001b[22m::Gurobi.GurobiMathProgModel\u001b[1m)\u001b[22m\u001b[22m at \u001b[1m/home/rdeits/.julia/v0.6/Gurobi/src/GurobiSolverInterface.jl:362\u001b[22m\u001b[22m",
      " [4] \u001b[1m#solve#116\u001b[22m\u001b[22m\u001b[1m(\u001b[22m\u001b[22m::Bool, ::Bool, ::Bool, ::Array{Any,1}, ::Function, ::JuMP.Model\u001b[1m)\u001b[22m\u001b[22m at \u001b[1m/home/rdeits/.julia/v0.6/JuMP/src/solvers.jl:176\u001b[22m\u001b[22m",
      " [5] \u001b[1m(::JuMP.#kw##solve)\u001b[22m\u001b[22m\u001b[1m(\u001b[22m\u001b[22m::Array{Any,1}, ::JuMP.#solve, ::JuMP.Model\u001b[1m)\u001b[22m\u001b[22m at \u001b[1m./<missing>:0\u001b[22m\u001b[22m",
      " [6] \u001b[1mbounding_solve\u001b[22m\u001b[22m\u001b[1m(\u001b[22m\u001b[22m::POD.PODNonlinearModel\u001b[1m)\u001b[22m\u001b[22m at \u001b[1m/home/rdeits/.julia/v0.6/POD/src/algorithm.jl:254\u001b[22m\u001b[22m",
      " [7] \u001b[1mglobal_solve\u001b[22m\u001b[22m\u001b[1m(\u001b[22m\u001b[22m::POD.PODNonlinearModel\u001b[1m)\u001b[22m\u001b[22m at \u001b[1m/home/rdeits/.julia/v0.6/POD/src/algorithm.jl:32\u001b[22m\u001b[22m",
      " [8] \u001b[1moptimize!\u001b[22m\u001b[22m\u001b[1m(\u001b[22m\u001b[22m::POD.PODNonlinearModel\u001b[1m)\u001b[22m\u001b[22m at \u001b[1m/home/rdeits/.julia/v0.6/POD/src/algorithm.jl:7\u001b[22m\u001b[22m",
      " [9] \u001b[1m#solvenlp#165\u001b[22m\u001b[22m\u001b[1m(\u001b[22m\u001b[22m::Bool, ::Function, ::JuMP.Model, ::JuMP.ProblemTraits\u001b[1m)\u001b[22m\u001b[22m at \u001b[1m/home/rdeits/.julia/v0.6/JuMP/src/nlp.jl:1271\u001b[22m\u001b[22m",
      " [10] \u001b[1m(::JuMP.#kw##solvenlp)\u001b[22m\u001b[22m\u001b[1m(\u001b[22m\u001b[22m::Array{Any,1}, ::JuMP.#solvenlp, ::JuMP.Model, ::JuMP.ProblemTraits\u001b[1m)\u001b[22m\u001b[22m at \u001b[1m./<missing>:0\u001b[22m\u001b[22m",
      " [11] \u001b[1m#solve#116\u001b[22m\u001b[22m\u001b[1m(\u001b[22m\u001b[22m::Bool, ::Bool, ::Bool, ::Array{Any,1}, ::Function, ::JuMP.Model\u001b[1m)\u001b[22m\u001b[22m at \u001b[1m/home/rdeits/.julia/v0.6/JuMP/src/solvers.jl:172\u001b[22m\u001b[22m",
      " [12] \u001b[1msolve\u001b[22m\u001b[22m\u001b[1m(\u001b[22m\u001b[22m::JuMP.Model\u001b[1m)\u001b[22m\u001b[22m at \u001b[1m/home/rdeits/.julia/v0.6/JuMP/src/solvers.jl:150\u001b[22m\u001b[22m",
      " [13] \u001b[1minclude_string\u001b[22m\u001b[22m\u001b[1m(\u001b[22m\u001b[22m::String, ::String\u001b[1m)\u001b[22m\u001b[22m at \u001b[1m./loading.jl:522\u001b[22m\u001b[22m"
     ]
    }
   ],
   "source": [
    "solve(model)\n",
    "x = getvalue.(x)"
   ]
  },
  {
   "cell_type": "code",
   "execution_count": 9,
   "metadata": {},
   "outputs": [
    {
     "data": {
      "text/plain": [
       "Plots.GRBackend()"
      ]
     },
     "execution_count": 9,
     "metadata": {},
     "output_type": "execute_result"
    }
   ],
   "source": [
    "using Plots; gr()"
   ]
  },
  {
   "cell_type": "code",
   "execution_count": 10,
   "metadata": {},
   "outputs": [
    {
     "ename": "LoadError",
     "evalue": "\u001b[91mNo user recipe defined for JuMP.Variable\u001b[39m",
     "output_type": "error",
     "traceback": [
      "\u001b[91mNo user recipe defined for JuMP.Variable\u001b[39m",
      "",
      "Stacktrace:",
      " [1] \u001b[1mcopy!\u001b[22m\u001b[22m\u001b[1m(\u001b[22m\u001b[22m::Array{Any,1}, ::Base.Generator{Array{JuMP.Variable,1},Plots.##187#189{Dict{Symbol,Any}}}\u001b[1m)\u001b[22m\u001b[22m at \u001b[1m./abstractarray.jl:573\u001b[22m\u001b[22m",
      " [2] \u001b[1mconvertToAnyVector\u001b[22m\u001b[22m\u001b[1m(\u001b[22m\u001b[22m::Array{JuMP.Variable,1}, ::Dict{Symbol,Any}\u001b[1m)\u001b[22m\u001b[22m at \u001b[1m/home/rdeits/.julia/v0.6/Plots/src/series.jl:58\u001b[22m\u001b[22m",
      " [3] \u001b[1mmacro expansion\u001b[22m\u001b[22m at \u001b[1m/home/rdeits/.julia/v0.6/Plots/src/series.jl:131\u001b[22m\u001b[22m [inlined]",
      " [4] \u001b[1mapply_recipe\u001b[22m\u001b[22m\u001b[1m(\u001b[22m\u001b[22m::Dict{Symbol,Any}, ::Type{Plots.SliceIt}, ::Array{JuMP.Variable,1}, ::Array{JuMP.Variable,1}, ::Void\u001b[1m)\u001b[22m\u001b[22m at \u001b[1m/home/rdeits/.julia/v0.6/RecipesBase/src/RecipesBase.jl:287\u001b[22m\u001b[22m",
      " [5] \u001b[1m_process_userrecipes\u001b[22m\u001b[22m\u001b[1m(\u001b[22m\u001b[22m::Plots.Plot{Plots.GRBackend}, ::Dict{Symbol,Any}, ::Tuple{Array{JuMP.Variable,1},Array{JuMP.Variable,1}}\u001b[1m)\u001b[22m\u001b[22m at \u001b[1m/home/rdeits/.julia/v0.6/Plots/src/pipeline.jl:81\u001b[22m\u001b[22m",
      " [6] \u001b[1m_plot!\u001b[22m\u001b[22m\u001b[1m(\u001b[22m\u001b[22m::Plots.Plot{Plots.GRBackend}, ::Dict{Symbol,Any}, ::Tuple{Array{JuMP.Variable,1},Array{JuMP.Variable,1}}\u001b[1m)\u001b[22m\u001b[22m at \u001b[1m/home/rdeits/.julia/v0.6/Plots/src/plot.jl:177\u001b[22m\u001b[22m",
      " [7] \u001b[1m#plot#176\u001b[22m\u001b[22m\u001b[1m(\u001b[22m\u001b[22m::Array{Any,1}, ::Function, ::Array{JuMP.Variable,1}, ::Vararg{Array{JuMP.Variable,1},N} where N\u001b[1m)\u001b[22m\u001b[22m at \u001b[1m/home/rdeits/.julia/v0.6/Plots/src/plot.jl:58\u001b[22m\u001b[22m",
      " [8] \u001b[1m(::RecipesBase.#kw##plot)\u001b[22m\u001b[22m\u001b[1m(\u001b[22m\u001b[22m::Array{Any,1}, ::RecipesBase.#plot, ::Array{JuMP.Variable,1}, ::Array{JuMP.Variable,1}, ::Vararg{Array{JuMP.Variable,1},N} where N\u001b[1m)\u001b[22m\u001b[22m at \u001b[1m./<missing>:0\u001b[22m\u001b[22m",
      " [9] \u001b[1m#scatter#632\u001b[22m\u001b[22m\u001b[1m(\u001b[22m\u001b[22m::Array{Any,1}, ::Function, ::Array{JuMP.Variable,1}, ::Vararg{Array{JuMP.Variable,1},N} where N\u001b[1m)\u001b[22m\u001b[22m at \u001b[1m/home/rdeits/.julia/v0.6/RecipesBase/src/RecipesBase.jl:381\u001b[22m\u001b[22m",
      " [10] \u001b[1mscatter\u001b[22m\u001b[22m\u001b[1m(\u001b[22m\u001b[22m::Array{JuMP.Variable,1}, ::Vararg{Array{JuMP.Variable,1},N} where N\u001b[1m)\u001b[22m\u001b[22m at \u001b[1m/home/rdeits/.julia/v0.6/RecipesBase/src/RecipesBase.jl:381\u001b[22m\u001b[22m",
      " [11] \u001b[1minclude_string\u001b[22m\u001b[22m\u001b[1m(\u001b[22m\u001b[22m::String, ::String\u001b[1m)\u001b[22m\u001b[22m at \u001b[1m./loading.jl:522\u001b[22m\u001b[22m"
     ]
    }
   ],
   "source": [
    "scatter(x[1, :], x[2,:])"
   ]
  },
  {
   "cell_type": "code",
   "execution_count": null,
   "metadata": {},
   "outputs": [],
   "source": []
  }
 ],
 "metadata": {
  "kernelspec": {
   "display_name": "Julia 0.6.2",
   "language": "julia",
   "name": "julia-0.6"
  },
  "language_info": {
   "file_extension": ".jl",
   "mimetype": "application/julia",
   "name": "julia",
   "version": "0.6.2"
  }
 },
 "nbformat": 4,
 "nbformat_minor": 2
}
